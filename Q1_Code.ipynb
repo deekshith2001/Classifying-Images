{
  "cells": [
    {
      "cell_type": "code",
      "execution_count": null,
      "metadata": {
        "id": "bEr7JJQigztd"
      },
      "outputs": [],
      "source": [
        "import os\n",
        "import numpy as np\n",
        "import pandas as pd\n",
        "\n",
        "from sklearn.neural_network import MLPClassifier\n",
        "from sklearn.preprocessing import MinMaxScaler, StandardScaler\n",
        "from sklearn.metrics import balanced_accuracy_score, confusion_matrix, ConfusionMatrixDisplay\n",
        "\n",
        "import warnings\n",
        "warnings.filterwarnings('ignore')"
      ]
    },
    {
      "cell_type": "code",
      "execution_count": null,
      "metadata": {
        "colab": {
          "base_uri": "https://localhost:8080/"
        },
        "id": "O7hQnCIP9S1Q",
        "outputId": "8d68cce4-645e-4bc9-a29d-9e76cd9c7122"
      },
      "outputs": [
        {
          "output_type": "stream",
          "name": "stdout",
          "text": [
            "Drive already mounted at /content/drive; to attempt to forcibly remount, call drive.mount(\"/content/drive\", force_remount=True).\n"
          ]
        }
      ],
      "source": [
        "from google.colab import drive\n",
        "drive.mount('/content/drive')"
      ]
    },
    {
      "cell_type": "code",
      "execution_count": null,
      "metadata": {
        "colab": {
          "base_uri": "https://localhost:8080/"
        },
        "id": "NW_31AOhSx1P",
        "outputId": "cf3f4c46-bc1c-4c18-8557-3f1c4ef30bfc"
      },
      "outputs": [
        {
          "output_type": "stream",
          "name": "stdout",
          "text": [
            "/content/drive/MyDrive/CS135_Project_B\n"
          ]
        }
      ],
      "source": [
        "%cd /content/drive/MyDrive/CS135_Project_B/"
      ]
    },
    {
      "cell_type": "code",
      "execution_count": null,
      "metadata": {
        "colab": {
          "base_uri": "https://localhost:8080/"
        },
        "id": "Ymuwb640SzYo",
        "outputId": "f976db6c-cd7a-461b-ccad-fdcf0763de17"
      },
      "outputs": [
        {
          "output_type": "stream",
          "name": "stdout",
          "text": [
            "/content/drive/MyDrive/CS135_Project_B\n"
          ]
        }
      ],
      "source": [
        "!pwd"
      ]
    },
    {
      "cell_type": "code",
      "execution_count": null,
      "metadata": {
        "id": "REE9chJtd4Mj"
      },
      "outputs": [],
      "source": [
        "data_dir = os.path.abspath(\"data_fashion/\")"
      ]
    },
    {
      "cell_type": "code",
      "execution_count": null,
      "metadata": {
        "colab": {
          "base_uri": "https://localhost:8080/"
        },
        "id": "PCc1vfLWS2MO",
        "outputId": "51ddb572-3442-44a2-bd7a-0d1c6a00ae24"
      },
      "outputs": [
        {
          "output_type": "stream",
          "name": "stdout",
          "text": [
            "Contents of train_x.csv: arr of shape (2102, 784)\n",
            "Contents of valid_x.csv: arr of shape (600, 784)\n"
          ]
        }
      ],
      "source": [
        "train_x = pd.read_csv(os.path.join(data_dir, \"x_train.csv\")).to_numpy()\n",
        "train_y_df = pd.read_csv(os.path.join(data_dir, \"y_train.csv\"))\n",
        "\n",
        "valid_x = pd.read_csv(os.path.join(data_dir, \"x_valid.csv\")).to_numpy()\n",
        "valid_y_df = pd.read_csv(os.path.join(data_dir, \"y_valid.csv\"))\n",
        "\n",
        "for label, arr in [('train', train_x), ('valid', valid_x)]:\n",
        "  print(\"Contents of %s_x.csv: arr of shape %s\" % (label, str(arr.shape)))"
      ]
    },
    {
      "cell_type": "code",
      "execution_count": null,
      "metadata": {
        "colab": {
          "base_uri": "https://localhost:8080/"
        },
        "id": "ZWR50BMBkG-2",
        "outputId": "eca3facb-3026-437a-d803-b84287b0dce6"
      },
      "outputs": [
        {
          "output_type": "execute_result",
          "data": {
            "text/plain": [
              "sandal      800\n",
              "sneaker     800\n",
              "dress       400\n",
              "pullover    100\n",
              "top           1\n",
              "trouser       1\n",
              "Name: class_name, dtype: int64"
            ]
          },
          "metadata": {},
          "execution_count": 7
        }
      ],
      "source": [
        "train_y_df['class_name'].value_counts()"
      ]
    },
    {
      "cell_type": "code",
      "execution_count": null,
      "metadata": {
        "colab": {
          "base_uri": "https://localhost:8080/"
        },
        "id": "jU-V14JjlAt1",
        "outputId": "ef300b0d-8055-4a8f-9472-16a4443e8875"
      },
      "outputs": [
        {
          "output_type": "execute_result",
          "data": {
            "text/plain": [
              "dress       100\n",
              "trouser     100\n",
              "sandal      100\n",
              "top         100\n",
              "pullover    100\n",
              "sneaker     100\n",
              "Name: class_name, dtype: int64"
            ]
          },
          "metadata": {},
          "execution_count": 8
        }
      ],
      "source": [
        "valid_y_df['class_name'].value_counts()"
      ]
    },
    {
      "cell_type": "code",
      "execution_count": null,
      "metadata": {
        "id": "lRjqU2oKooui"
      },
      "outputs": [],
      "source": [
        "#scaler = MinMaxScaler()\n",
        "#train_x = scaler.fit_transform(train_x)\n",
        "#valid_x = scaler.transform(valid_x)"
      ]
    },
    {
      "cell_type": "code",
      "execution_count": null,
      "metadata": {
        "id": "HUfIHrWU-sr8"
      },
      "outputs": [],
      "source": [
        "train_x = train_x.astype('float32')\n",
        "valid_x = valid_x.astype('float32')\n",
        "train_x = train_x/255.0\n",
        "valid_x = valid_x/255.0"
      ]
    },
    {
      "cell_type": "code",
      "execution_count": null,
      "metadata": {
        "id": "YUMXOVlBVsr2"
      },
      "outputs": [],
      "source": [
        "n_runs = 10"
      ]
    },
    {
      "cell_type": "code",
      "execution_count": null,
      "metadata": {
        "colab": {
          "base_uri": "https://localhost:8080/"
        },
        "id": "ig3uJdxnViPp",
        "outputId": "55ebbce0-f15f-4ab9-f873-2784e24dc114"
      },
      "outputs": [
        {
          "output_type": "stream",
          "name": "stdout",
          "text": [
            "[0.0001, 0.001, 0.01, 1, 10, 100]\n"
          ]
        }
      ],
      "source": [
        "alphas = list(np.logspace(-10, 10, 11))\n",
        "alphas = [1e-4, 0.001, 0.01, 1, 10, 100]\n",
        "print(alphas)"
      ]
    },
    {
      "cell_type": "code",
      "execution_count": null,
      "metadata": {
        "colab": {
          "base_uri": "https://localhost:8080/"
        },
        "id": "BZTGl5144ONo",
        "outputId": "5ba259a0-a778-4cd7-e4c5-603702a42510"
      },
      "outputs": [
        {
          "output_type": "stream",
          "name": "stdout",
          "text": [
            "random_state: 0, validation_score: 0.77833\n",
            "random_state: 1, validation_score: 0.64167\n",
            "random_state: 2, validation_score: 0.74167\n",
            "random_state: 3, validation_score: 0.63833\n",
            "random_state: 4, validation_score: 0.77167\n",
            "random_state: 5, validation_score: 0.76500\n",
            "random_state: 6, validation_score: 0.71500\n",
            "random_state: 7, validation_score: 0.64667\n",
            "random_state: 8, validation_score: 0.65500\n",
            "random_state: 9, validation_score: 0.65167\n",
            "alpha: 0.0001, train_score: 0.97021, validation_score: 0.77833\n",
            "random_state: 0, validation_score: 0.66167\n",
            "random_state: 1, validation_score: 0.66667\n",
            "random_state: 2, validation_score: 0.63333\n",
            "random_state: 3, validation_score: 0.60500\n",
            "random_state: 4, validation_score: 0.68167\n",
            "random_state: 5, validation_score: 0.68167\n",
            "random_state: 6, validation_score: 0.72333\n",
            "random_state: 7, validation_score: 0.74667\n",
            "random_state: 8, validation_score: 0.63833\n",
            "random_state: 9, validation_score: 0.87000\n",
            "alpha: 0.001, train_score: 0.99083, validation_score: 0.87000\n",
            "random_state: 0, validation_score: 0.72167\n",
            "random_state: 1, validation_score: 0.84667\n",
            "random_state: 2, validation_score: 0.67500\n",
            "random_state: 3, validation_score: 0.62833\n",
            "random_state: 4, validation_score: 0.64667\n",
            "random_state: 5, validation_score: 0.64500\n",
            "random_state: 6, validation_score: 0.69667\n",
            "random_state: 7, validation_score: 0.79167\n",
            "random_state: 8, validation_score: 0.76000\n",
            "random_state: 9, validation_score: 0.63500\n",
            "alpha: 0.01, train_score: 0.98604, validation_score: 0.84667\n",
            "random_state: 0, validation_score: 0.62500\n",
            "random_state: 1, validation_score: 0.74333\n",
            "random_state: 2, validation_score: 0.60667\n",
            "random_state: 3, validation_score: 0.62667\n",
            "random_state: 4, validation_score: 0.60833\n",
            "random_state: 5, validation_score: 0.61833\n",
            "random_state: 6, validation_score: 0.61167\n",
            "random_state: 7, validation_score: 0.64500\n",
            "random_state: 8, validation_score: 0.61667\n",
            "random_state: 9, validation_score: 0.60333\n",
            "alpha: 1, train_score: 0.79208, validation_score: 0.74333\n",
            "random_state: 0, validation_score: 0.59000\n",
            "random_state: 1, validation_score: 0.56000\n",
            "random_state: 2, validation_score: 0.59500\n",
            "random_state: 3, validation_score: 0.61500\n",
            "random_state: 4, validation_score: 0.61833\n",
            "random_state: 5, validation_score: 0.60833\n",
            "random_state: 6, validation_score: 0.58333\n",
            "random_state: 7, validation_score: 0.61833\n",
            "random_state: 8, validation_score: 0.60500\n",
            "random_state: 9, validation_score: 0.61667\n",
            "alpha: 10, train_score: 0.61292, validation_score: 0.61833\n",
            "random_state: 0, validation_score: 0.55667\n",
            "random_state: 1, validation_score: 0.43000\n",
            "random_state: 2, validation_score: 0.43500\n",
            "random_state: 3, validation_score: 0.43000\n",
            "random_state: 4, validation_score: 0.43833\n",
            "random_state: 5, validation_score: 0.42833\n",
            "random_state: 6, validation_score: 0.44000\n",
            "random_state: 7, validation_score: 0.43333\n",
            "random_state: 8, validation_score: 0.43333\n",
            "random_state: 9, validation_score: 0.43667\n",
            "alpha: 100, train_score: 0.55667, validation_score: 0.55667\n"
          ]
        }
      ],
      "source": [
        "models = []\n",
        "train_balanced_accs = []\n",
        "valid_balanced_accs = []\n",
        "\n",
        "for i in alphas:\n",
        "\n",
        "  best_model = None\n",
        "  best_balanced_acc = 0.0\n",
        "\n",
        "  for j in range(n_runs):\n",
        "\n",
        "    mlp = MLPClassifier(\n",
        "          hidden_layer_sizes=(512,),\n",
        "          activation='identity',\n",
        "          alpha=i,\n",
        "          solver='adam',\n",
        "          random_state=j,\n",
        "          learning_rate_init = 0.1,\n",
        "          early_stopping = True\n",
        "    )\n",
        "    mlp.fit(train_x, train_y_df['class_name'])\n",
        "\n",
        "    valid_yhat = mlp.predict(valid_x)\n",
        "    balanced_acc = balanced_accuracy_score(valid_y_df['class_name'], valid_yhat)\n",
        "    print(f\"random_state: {j}, validation_score: {balanced_acc:.5f}\")\n",
        "    if balanced_acc > best_balanced_acc:\n",
        "      best_balanced_acc = balanced_acc\n",
        "      best_model = mlp\n",
        "\n",
        "  models.append(best_model)\n",
        "\n",
        "  train_yhat = best_model.predict(train_x)\n",
        "  valid_yhat = best_model.predict(valid_x)\n",
        "\n",
        "  train_balanced_acc = balanced_accuracy_score(train_y_df['class_name'], train_yhat)\n",
        "  valid_balanced_acc = balanced_accuracy_score(valid_y_df['class_name'], valid_yhat)\n",
        "  print(f\"alpha: {i}, train_score: {train_balanced_acc:.5f}, validation_score: {valid_balanced_acc:.5f}\")\n",
        "\n",
        "  train_balanced_accs.append(train_balanced_acc)\n",
        "  valid_balanced_accs.append(valid_balanced_acc)"
      ]
    },
    {
      "cell_type": "code",
      "execution_count": null,
      "metadata": {
        "colab": {
          "base_uri": "https://localhost:8080/"
        },
        "id": "ZQzOs-pjceID",
        "outputId": "a23bbf8d-143a-4e04-da5d-2500de6d4f04"
      },
      "outputs": [
        {
          "output_type": "stream",
          "name": "stdout",
          "text": [
            "0.001\n"
          ]
        }
      ],
      "source": [
        "max_index = valid_balanced_accs.index(max(valid_balanced_accs))\n",
        "alpha_best = alphas[max_index]\n",
        "print(alpha_best)"
      ]
    },
    {
      "cell_type": "code",
      "execution_count": null,
      "metadata": {
        "colab": {
          "base_uri": "https://localhost:8080/",
          "height": 466
        },
        "id": "FsEjfX8Wg4Ax",
        "outputId": "e06f3dfb-1419-48ca-d34e-0bbe1e67033c"
      },
      "outputs": [
        {
          "output_type": "execute_result",
          "data": {
            "text/plain": [
              "<sklearn.metrics._plot.confusion_matrix.ConfusionMatrixDisplay at 0x781746aecf40>"
            ]
          },
          "metadata": {},
          "execution_count": 15
        },
        {
          "output_type": "display_data",
          "data": {
            "text/plain": [
              "<Figure size 640x480 with 2 Axes>"
            ],
            "image/png": "[encoded data removed]"
          },
          "metadata": {}
        }
      ],
      "source": [
        "model_best = models[max_index]\n",
        "valid_yhat = model_best.predict(valid_x)\n",
        "\n",
        "class_names = ['dress', 'pullover', 'top', 'trouser', 'sandal', 'sneaker']\n",
        "cm = confusion_matrix(valid_y_df['class_name'], valid_yhat, labels=class_names)\n",
        "\n",
        "disp = ConfusionMatrixDisplay(confusion_matrix=cm, display_labels=class_names)\n",
        "disp.plot(cmap='Blues', values_format='d')"
      ]
    },
    {
      "cell_type": "code",
      "execution_count": null,
      "metadata": {
        "id": "LTN7z8vWvBmg"
      },
      "outputs": [],
      "source": [
        "train_x = pd.read_csv(os.path.join(data_dir, \"x_train.csv\"))\n",
        "train_y_df = pd.read_csv(os.path.join(data_dir, \"y_train.csv\"))\n",
        "\n",
        "valid_x = pd.read_csv(os.path.join(data_dir, \"x_valid.csv\")).to_numpy()\n",
        "valid_y_df = pd.read_csv(os.path.join(data_dir, \"y_valid.csv\"))"
      ]
    },
    {
      "cell_type": "code",
      "execution_count": null,
      "metadata": {
        "colab": {
          "base_uri": "https://localhost:8080/"
        },
        "id": "oydOATqYwzK5",
        "outputId": "309df5a5-8f79-4808-f6f2-eadb38f5c234"
      },
      "outputs": [
        {
          "output_type": "execute_result",
          "data": {
            "text/plain": [
              "sandal      800\n",
              "sneaker     800\n",
              "dress       400\n",
              "trouser     400\n",
              "pullover    400\n",
              "top         400\n",
              "Name: class_name, dtype: int64"
            ]
          },
          "metadata": {},
          "execution_count": 17
        }
      ],
      "source": [
        "train_x['class_name'] = train_y_df['class_name']\n",
        "duplicate_counts = {'pullover': 4, 'top': 400, 'trouser': 400}\n",
        "df = pd.DataFrame()\n",
        "\n",
        "for class_name, count in duplicate_counts.items():\n",
        "    subset = train_x[train_x['class_name'] == class_name]\n",
        "    duplicated_subset = pd.concat([subset] * count, ignore_index=True)\n",
        "    df = pd.concat([df, duplicated_subset], ignore_index=True)\n",
        "\n",
        "other_classes = train_x[~train_x['class_name'].isin(duplicate_counts.keys())]\n",
        "df = pd.concat([df, other_classes], ignore_index=True)\n",
        "\n",
        "df = df.sample(frac=1, random_state=42).reset_index(drop=True)\n",
        "df['class_name'].value_counts()"
      ]
    },
    {
      "cell_type": "code",
      "execution_count": null,
      "metadata": {
        "id": "EAHWt3dKF2xn"
      },
      "outputs": [],
      "source": [
        "train_x = (df.loc[:, df.columns != 'class_name']).to_numpy()"
      ]
    },
    {
      "cell_type": "code",
      "execution_count": null,
      "metadata": {
        "colab": {
          "base_uri": "https://localhost:8080/"
        },
        "id": "_esG_RnjGQK5",
        "outputId": "e71a05bf-6d6d-4ffe-d967-bd8f7c73107b"
      },
      "outputs": [
        {
          "output_type": "stream",
          "name": "stdout",
          "text": [
            "Contents of train_x.csv: arr of shape (3200, 784)\n",
            "Contents of valid_x.csv: arr of shape (600, 784)\n"
          ]
        }
      ],
      "source": [
        "for label, arr in [('train', train_x), ('valid', valid_x)]:\n",
        "  print(\"Contents of %s_x.csv: arr of shape %s\" % (label, str(arr.shape)))"
      ]
    },
    {
      "cell_type": "code",
      "execution_count": null,
      "metadata": {
        "colab": {
          "base_uri": "https://localhost:8080/"
        },
        "id": "1VRO-XzoEpKN",
        "outputId": "1c9e79e9-9a27-406a-868f-3deecd618b0c"
      },
      "outputs": [
        {
          "output_type": "execute_result",
          "data": {
            "text/plain": [
              "sandal      800\n",
              "sneaker     800\n",
              "dress       400\n",
              "trouser     400\n",
              "pullover    400\n",
              "top         400\n",
              "Name: class_name, dtype: int64"
            ]
          },
          "metadata": {},
          "execution_count": 20
        }
      ],
      "source": [
        "train_y_df = df['class_name']\n",
        "train_y_df.value_counts()"
      ]
    },
    {
      "cell_type": "code",
      "execution_count": null,
      "metadata": {
        "colab": {
          "base_uri": "https://localhost:8080/"
        },
        "id": "mthnJzUiz3Ik",
        "outputId": "af360ba9-cdd8-4b05-e203-de4cde0f05ef"
      },
      "outputs": [
        {
          "output_type": "execute_result",
          "data": {
            "text/plain": [
              "dress       100\n",
              "trouser     100\n",
              "sandal      100\n",
              "top         100\n",
              "pullover    100\n",
              "sneaker     100\n",
              "Name: class_name, dtype: int64"
            ]
          },
          "metadata": {},
          "execution_count": 21
        }
      ],
      "source": [
        "valid_y_df['class_name'].value_counts()"
      ]
    },
    {
      "cell_type": "code",
      "execution_count": null,
      "metadata": {
        "id": "M9-fcxPmz53F"
      },
      "outputs": [],
      "source": [
        "#scaler = MinMaxScaler()\n",
        "#train_x = scaler.fit_transform(train_x)\n",
        "#valid_x = scaler.transform(valid_x)"
      ]
    },
    {
      "cell_type": "code",
      "execution_count": null,
      "metadata": {
        "id": "gO5ZnRTZNVnj"
      },
      "outputs": [],
      "source": [
        "train_x = train_x.astype('float32')\n",
        "valid_x = valid_x.astype('float32')\n",
        "train_x = train_x/255.0\n",
        "valid_x = valid_x/255.0"
      ]
    },
    {
      "cell_type": "code",
      "execution_count": null,
      "metadata": {
        "id": "OelrbCW5z8zG"
      },
      "outputs": [],
      "source": [
        "n_runs = 15"
      ]
    },
    {
      "cell_type": "code",
      "execution_count": null,
      "metadata": {
        "colab": {
          "base_uri": "https://localhost:8080/"
        },
        "id": "1_hzS-Yr0AKm",
        "outputId": "62d4708b-d8bb-4bb1-edb4-98405f131f53"
      },
      "outputs": [
        {
          "output_type": "stream",
          "name": "stdout",
          "text": [
            "[0.0001, 0.001, 0.01, 1, 10, 100]\n"
          ]
        }
      ],
      "source": [
        "#alphas = list(np.logspace(-10, 10, 11))\n",
        "alphas = [1e-4, 0.001, 0.01, 1, 10, 100]\n",
        "print(alphas)"
      ]
    },
    {
      "cell_type": "code",
      "execution_count": null,
      "metadata": {
        "colab": {
          "base_uri": "https://localhost:8080/"
        },
        "id": "8UuSiaQd0CmS",
        "outputId": "b7e4179d-6f51-4f9a-b9a1-78725eb57c86"
      },
      "outputs": [
        {
          "output_type": "stream",
          "name": "stdout",
          "text": [
            "random_state: 0, validation_score: 0.77833\n",
            "random_state: 1, validation_score: 0.88167\n",
            "random_state: 2, validation_score: 0.80333\n",
            "random_state: 3, validation_score: 0.85333\n",
            "random_state: 4, validation_score: 0.90667\n",
            "random_state: 5, validation_score: 0.83500\n",
            "random_state: 6, validation_score: 0.75500\n",
            "random_state: 7, validation_score: 0.77167\n",
            "random_state: 8, validation_score: 0.86667\n",
            "random_state: 9, validation_score: 0.68667\n",
            "random_state: 10, validation_score: 0.83333\n",
            "random_state: 11, validation_score: 0.83333\n",
            "random_state: 12, validation_score: 0.72333\n",
            "random_state: 13, validation_score: 0.78500\n",
            "random_state: 14, validation_score: 0.80833\n",
            "alpha: 0.0001, train_score: 0.99167, validation_score: 0.90667\n",
            "random_state: 0, validation_score: 0.79667\n",
            "random_state: 1, validation_score: 0.89167\n",
            "random_state: 2, validation_score: 0.88833\n",
            "random_state: 3, validation_score: 0.84333\n",
            "random_state: 4, validation_score: 0.75500\n",
            "random_state: 5, validation_score: 0.89333\n",
            "random_state: 6, validation_score: 0.79167\n",
            "random_state: 7, validation_score: 0.89667\n",
            "random_state: 8, validation_score: 0.85500\n",
            "random_state: 9, validation_score: 0.75833\n",
            "random_state: 10, validation_score: 0.84000\n",
            "random_state: 11, validation_score: 0.86000\n",
            "random_state: 12, validation_score: 0.68333\n",
            "random_state: 13, validation_score: 0.91333\n",
            "random_state: 14, validation_score: 0.78500\n",
            "alpha: 0.001, train_score: 0.98708, validation_score: 0.91333\n",
            "random_state: 0, validation_score: 0.81167\n",
            "random_state: 1, validation_score: 0.88833\n",
            "random_state: 2, validation_score: 0.75333\n",
            "random_state: 3, validation_score: 0.88000\n",
            "random_state: 4, validation_score: 0.69333\n",
            "random_state: 5, validation_score: 0.69500\n",
            "random_state: 6, validation_score: 0.82000\n",
            "random_state: 7, validation_score: 0.88667\n",
            "random_state: 8, validation_score: 0.77833\n",
            "random_state: 9, validation_score: 0.76000\n",
            "random_state: 10, validation_score: 0.76000\n",
            "random_state: 11, validation_score: 0.89667\n",
            "random_state: 12, validation_score: 0.76667\n",
            "random_state: 13, validation_score: 0.80833\n",
            "random_state: 14, validation_score: 0.78333\n",
            "alpha: 0.01, train_score: 0.99333, validation_score: 0.89667\n",
            "random_state: 0, validation_score: 0.81500\n",
            "random_state: 1, validation_score: 0.83167\n",
            "random_state: 2, validation_score: 0.81500\n",
            "random_state: 3, validation_score: 0.64167\n",
            "random_state: 4, validation_score: 0.79500\n",
            "random_state: 5, validation_score: 0.72333\n",
            "random_state: 6, validation_score: 0.76167\n",
            "random_state: 7, validation_score: 0.75667\n",
            "random_state: 8, validation_score: 0.92000\n",
            "random_state: 9, validation_score: 0.82167\n",
            "random_state: 10, validation_score: 0.66000\n",
            "random_state: 11, validation_score: 0.62667\n",
            "random_state: 12, validation_score: 0.71167\n",
            "random_state: 13, validation_score: 0.76667\n",
            "random_state: 14, validation_score: 0.69667\n",
            "alpha: 1, train_score: 0.96563, validation_score: 0.92000\n",
            "random_state: 0, validation_score: 0.71500\n",
            "random_state: 1, validation_score: 0.68833\n",
            "random_state: 2, validation_score: 0.68500\n",
            "random_state: 3, validation_score: 0.76667\n",
            "random_state: 4, validation_score: 0.62000\n",
            "random_state: 5, validation_score: 0.76500\n",
            "random_state: 6, validation_score: 0.68167\n",
            "random_state: 7, validation_score: 0.67500\n",
            "random_state: 8, validation_score: 0.83833\n",
            "random_state: 9, validation_score: 0.88333\n",
            "random_state: 10, validation_score: 0.71000\n",
            "random_state: 11, validation_score: 0.75167\n",
            "random_state: 12, validation_score: 0.78167\n",
            "random_state: 13, validation_score: 0.77833\n",
            "random_state: 14, validation_score: 0.84000\n",
            "alpha: 10, train_score: 0.94792, validation_score: 0.88333\n",
            "random_state: 0, validation_score: 0.58000\n",
            "random_state: 1, validation_score: 0.40833\n",
            "random_state: 2, validation_score: 0.59333\n",
            "random_state: 3, validation_score: 0.72167\n",
            "random_state: 4, validation_score: 0.39167\n",
            "random_state: 5, validation_score: 0.49333\n",
            "random_state: 6, validation_score: 0.46000\n",
            "random_state: 7, validation_score: 0.59000\n",
            "random_state: 8, validation_score: 0.49500\n",
            "random_state: 9, validation_score: 0.60333\n",
            "random_state: 10, validation_score: 0.60000\n",
            "random_state: 11, validation_score: 0.51167\n",
            "random_state: 12, validation_score: 0.57667\n",
            "random_state: 13, validation_score: 0.49333\n",
            "random_state: 14, validation_score: 0.55667\n",
            "alpha: 100, train_score: 0.77771, validation_score: 0.72167\n"
          ]
        }
      ],
      "source": [
        "models = []\n",
        "train_balanced_accs = []\n",
        "valid_balanced_accs = []\n",
        "\n",
        "for i in alphas:\n",
        "\n",
        "  best_model = None\n",
        "  best_balanced_acc = 0.0\n",
        "\n",
        "  for j in range(n_runs):\n",
        "\n",
        "    mlp = MLPClassifier(\n",
        "          hidden_layer_sizes=(512,),\n",
        "          activation='identity',\n",
        "          alpha=i,\n",
        "          solver='adam',\n",
        "          random_state=j,\n",
        "          learning_rate_init = 0.1,\n",
        "          early_stopping = True\n",
        "    )\n",
        "    mlp.fit(train_x, train_y_df)\n",
        "\n",
        "    valid_yhat = mlp.predict(valid_x)\n",
        "    balanced_acc = balanced_accuracy_score(valid_y_df['class_name'], valid_yhat)\n",
        "    print(f\"random_state: {j}, validation_score: {balanced_acc:.5f}\")\n",
        "    if balanced_acc > best_balanced_acc:\n",
        "      best_balanced_acc = balanced_acc\n",
        "      best_model = mlp\n",
        "\n",
        "  models.append(best_model)\n",
        "\n",
        "  train_yhat = best_model.predict(train_x)\n",
        "  valid_yhat = best_model.predict(valid_x)\n",
        "\n",
        "  train_balanced_acc = balanced_accuracy_score(train_y_df, train_yhat)\n",
        "  valid_balanced_acc = balanced_accuracy_score(valid_y_df['class_name'], valid_yhat)\n",
        "  print(f\"alpha: {i}, train_score: {train_balanced_acc:.5f}, validation_score: {valid_balanced_acc:.5f}\")\n",
        "\n",
        "  train_balanced_accs.append(train_balanced_acc)\n",
        "  valid_balanced_accs.append(valid_balanced_acc)"
      ]
    },
    {
      "cell_type": "code",
      "execution_count": null,
      "metadata": {
        "id": "jMhz_bqV0G7I",
        "colab": {
          "base_uri": "https://localhost:8080/"
        },
        "outputId": "7c5d07de-5ccd-46e2-c286-0733f97ead86"
      },
      "outputs": [
        {
          "output_type": "stream",
          "name": "stdout",
          "text": [
            "1\n"
          ]
        }
      ],
      "source": [
        "max_index = valid_balanced_accs.index(max(valid_balanced_accs))\n",
        "alpha_best = alphas[max_index]\n",
        "print(alpha_best)"
      ]
    },
    {
      "cell_type": "code",
      "execution_count": null,
      "metadata": {
        "id": "iM-lGzvm0J1A",
        "colab": {
          "base_uri": "https://localhost:8080/",
          "height": 472
        },
        "outputId": "882ac2c6-28ae-4ea6-a6bf-25589644ac25"
      },
      "outputs": [
        {
          "output_type": "execute_result",
          "data": {
            "text/plain": [
              "<sklearn.metrics._plot.confusion_matrix.ConfusionMatrixDisplay at 0x781746aefa90>"
            ]
          },
          "metadata": {},
          "execution_count": 28
        },
        {
          "output_type": "display_data",
          "data": {
            "text/plain": [
              "<Figure size 640x480 with 2 Axes>"
            ],
            "image/png": "[encoded data removed]"
          },
          "metadata": {}
        }
      ],
      "source": [
        "model_best = models[max_index]\n",
        "valid_yhat = model_best.predict(valid_x)\n",
        "\n",
        "class_names = ['dress', 'pullover', 'top', 'trouser', 'sandal', 'sneaker']\n",
        "cm = confusion_matrix(valid_y_df['class_name'], valid_yhat, labels=class_names)\n",
        "\n",
        "disp = ConfusionMatrixDisplay(confusion_matrix=cm, display_labels=class_names)\n",
        "disp.plot(cmap='Blues', values_format='d')"
      ]
    },
    {
      "cell_type": "code",
      "execution_count": null,
      "metadata": {
        "id": "EWgFExW6cY3H"
      },
      "outputs": [],
      "source": [
        "test_x = pd.read_csv(os.path.join(data_dir, \"x_test.csv\")).to_numpy()"
      ]
    },
    {
      "cell_type": "code",
      "execution_count": null,
      "metadata": {
        "id": "JS4POFLidyDG"
      },
      "outputs": [],
      "source": [
        "test_x = test_x.astype('float32')\n",
        "test_x = test_x/255.0"
      ]
    },
    {
      "cell_type": "code",
      "execution_count": null,
      "metadata": {
        "id": "UX7sB9oXdsIJ"
      },
      "outputs": [],
      "source": [
        "test_yhat = model_best.predict(test_x)"
      ]
    },
    {
      "cell_type": "code",
      "execution_count": null,
      "metadata": {
        "id": "1cJmyWASd8dp"
      },
      "outputs": [],
      "source": [
        "np.savetxt('Q1/yhat_test.txt', test_yhat, delimiter='\\n', fmt='%s')"
      ]
    },
    {
      "cell_type": "code",
      "execution_count": null,
      "metadata": {
        "id": "llWuv3jsVwDG"
      },
      "outputs": [],
      "source": []
    }
  ],
  "metadata": {
    "colab": {
      "provenance": []
    },
    "kernelspec": {
      "display_name": "Python 3",
      "name": "python3"
    },
    "language_info": {
      "name": "python"
    }
  },
  "nbformat": 4,
  "nbformat_minor": 0
}