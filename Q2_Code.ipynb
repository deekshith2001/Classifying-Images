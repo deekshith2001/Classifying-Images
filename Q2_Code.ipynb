{
  "cells": [
    {
      "cell_type": "code",
      "execution_count": null,
      "metadata": {
        "id": "bEr7JJQigztd"
      },
      "outputs": [],
      "source": [
        "import os\n",
        "import numpy as np\n",
        "import pandas as pd\n",
        "\n",
        "import tensorflow as tf\n",
        "from tensorflow import keras\n",
        "from keras import regularizers\n",
        "from tensorflow.keras.models import Sequential\n",
        "from tensorflow.keras.callbacks import EarlyStopping\n",
        "from tensorflow.keras.layers import Dense, Flatten, Conv2D, MaxPooling2D, Dropout\n",
        "\n",
        "from sklearn.model_selection import train_test_split\n",
        "from sklearn.preprocessing import MinMaxScaler, StandardScaler\n",
        "from sklearn.metrics import balanced_accuracy_score, confusion_matrix, ConfusionMatrixDisplay\n",
        "\n",
        "import warnings\n",
        "warnings.filterwarnings('ignore')"
      ]
    },
    {
      "cell_type": "code",
      "execution_count": null,
      "metadata": {
        "colab": {
          "base_uri": "https://localhost:8080/"
        },
        "id": "O7hQnCIP9S1Q",
        "outputId": "7b8ddceb-9114-4c1b-8412-ec1cbf6de610"
      },
      "outputs": [
        {
          "output_type": "stream",
          "name": "stdout",
          "text": [
            "Mounted at /content/drive\n"
          ]
        }
      ],
      "source": [
        "from google.colab import drive\n",
        "drive.mount('/content/drive')"
      ]
    },
    {
      "cell_type": "code",
      "execution_count": null,
      "metadata": {
        "colab": {
          "base_uri": "https://localhost:8080/"
        },
        "id": "NW_31AOhSx1P",
        "outputId": "325fb66c-67e7-4f2a-9354-58c207da9e99"
      },
      "outputs": [
        {
          "output_type": "stream",
          "name": "stdout",
          "text": [
            "/content/drive/MyDrive/CS135_Project_B\n"
          ]
        }
      ],
      "source": [
        "%cd /content/drive/MyDrive/CS135_Project_B/"
      ]
    },
    {
      "cell_type": "code",
      "execution_count": null,
      "metadata": {
        "colab": {
          "base_uri": "https://localhost:8080/"
        },
        "id": "Ymuwb640SzYo",
        "outputId": "22ba0e88-f53b-4f23-954f-9d858571fa5f"
      },
      "outputs": [
        {
          "output_type": "stream",
          "name": "stdout",
          "text": [
            "/content/drive/MyDrive/CS135_Project_B\n"
          ]
        }
      ],
      "source": [
        "!pwd"
      ]
    },
    {
      "cell_type": "code",
      "execution_count": null,
      "metadata": {
        "id": "REE9chJtd4Mj"
      },
      "outputs": [],
      "source": [
        "data_dir = os.path.abspath(\"data_fashion/\")"
      ]
    },
    {
      "cell_type": "code",
      "source": [
        "train_x = pd.read_csv(os.path.join(data_dir, \"x_train.csv\"))\n",
        "train_y_df = pd.read_csv(os.path.join(data_dir, \"y_train.csv\"))\n",
        "\n",
        "valid_x = pd.read_csv(os.path.join(data_dir, \"x_valid.csv\"))\n",
        "valid_y_df = pd.read_csv(os.path.join(data_dir, \"y_valid.csv\"))"
      ],
      "metadata": {
        "id": "LTN7z8vWvBmg"
      },
      "execution_count": null,
      "outputs": []
    },
    {
      "cell_type": "code",
      "source": [
        "train_x['class_name'] = train_y_df['class_name']\n",
        "duplicate_counts = {'pullover': 4, 'top': 400, 'trouser': 400}\n",
        "df = pd.DataFrame()\n",
        "\n",
        "for class_name, count in duplicate_counts.items():\n",
        "    subset = train_x[train_x['class_name'] == class_name]\n",
        "    duplicated_subset = pd.concat([subset] * count, ignore_index=True)\n",
        "    df = pd.concat([df, duplicated_subset], ignore_index=True)\n",
        "\n",
        "other_classes = train_x[~train_x['class_name'].isin(duplicate_counts.keys())]\n",
        "df = pd.concat([df, other_classes], ignore_index=True)\n",
        "\n",
        "df = df.sample(frac=1, random_state=42).reset_index(drop=True)\n",
        "df['class_name'].value_counts()"
      ],
      "metadata": {
        "id": "oydOATqYwzK5",
        "colab": {
          "base_uri": "https://localhost:8080/"
        },
        "outputId": "1478b512-ace9-4ba3-c3c4-521a266fb18e"
      },
      "execution_count": null,
      "outputs": [
        {
          "output_type": "execute_result",
          "data": {
            "text/plain": [
              "sandal      800\n",
              "sneaker     800\n",
              "dress       400\n",
              "trouser     400\n",
              "pullover    400\n",
              "top         400\n",
              "Name: class_name, dtype: int64"
            ]
          },
          "metadata": {},
          "execution_count": 7
        }
      ]
    },
    {
      "cell_type": "code",
      "source": [
        "train_data = df\n",
        "valid_x['class_name'] = valid_y_df['class_name']\n",
        "valid_data = valid_x"
      ],
      "metadata": {
        "id": "EAHWt3dKF2xn"
      },
      "execution_count": null,
      "outputs": []
    },
    {
      "cell_type": "code",
      "source": [
        "for label, df in [('train', train_data), ('valid', valid_data)]:\n",
        "  print(\"Contents of %s_data.csv: dataframe of shape %s\" % (label, str(df.shape)))"
      ],
      "metadata": {
        "colab": {
          "base_uri": "https://localhost:8080/"
        },
        "id": "_esG_RnjGQK5",
        "outputId": "7b309a02-9168-43f6-a51a-d6792532e7d5"
      },
      "execution_count": null,
      "outputs": [
        {
          "output_type": "stream",
          "name": "stdout",
          "text": [
            "Contents of train_data.csv: dataframe of shape (3200, 785)\n",
            "Contents of valid_data.csv: dataframe of shape (600, 785)\n"
          ]
        }
      ]
    },
    {
      "cell_type": "code",
      "source": [
        "category_mapping = {'dress': 0, 'pullover': 1, 'top': 2, 'trouser': 3, 'sandal': 4, 'sneaker': 5}\n",
        "train_data['class_name'] = train_data['class_name'].map(category_mapping)\n",
        "valid_data['class_name'] = valid_data['class_name'].map(category_mapping)"
      ],
      "metadata": {
        "id": "BmfEBOPeNL72"
      },
      "execution_count": null,
      "outputs": []
    },
    {
      "cell_type": "code",
      "source": [
        "train_data['class_name'].value_counts()"
      ],
      "metadata": {
        "colab": {
          "base_uri": "https://localhost:8080/"
        },
        "id": "FWFkcNtzEbzj",
        "outputId": "cfab2cc3-6f82-4029-ba32-1cd2a76536f4"
      },
      "execution_count": null,
      "outputs": [
        {
          "output_type": "execute_result",
          "data": {
            "text/plain": [
              "4    800\n",
              "5    800\n",
              "0    400\n",
              "3    400\n",
              "1    400\n",
              "2    400\n",
              "Name: class_name, dtype: int64"
            ]
          },
          "metadata": {},
          "execution_count": 11
        }
      ]
    },
    {
      "cell_type": "code",
      "source": [
        "valid_data['class_name'].value_counts()"
      ],
      "metadata": {
        "colab": {
          "base_uri": "https://localhost:8080/"
        },
        "id": "mFl91UZqEgvZ",
        "outputId": "9f4f40cb-7c33-467b-b511-d9fbf28f40c7"
      },
      "execution_count": null,
      "outputs": [
        {
          "output_type": "execute_result",
          "data": {
            "text/plain": [
              "0    100\n",
              "3    100\n",
              "4    100\n",
              "2    100\n",
              "1    100\n",
              "5    100\n",
              "Name: class_name, dtype: int64"
            ]
          },
          "metadata": {},
          "execution_count": 12
        }
      ]
    },
    {
      "cell_type": "code",
      "source": [
        "full_data = result = pd.concat([train_data, valid_data], axis=0)\n",
        "full_data.shape"
      ],
      "metadata": {
        "colab": {
          "base_uri": "https://localhost:8080/"
        },
        "id": "1NvfZracjE0P",
        "outputId": "8fae77d7-6988-42fe-f3ea-75a0713ebd50"
      },
      "execution_count": null,
      "outputs": [
        {
          "output_type": "execute_result",
          "data": {
            "text/plain": [
              "(3800, 785)"
            ]
          },
          "metadata": {},
          "execution_count": 13
        }
      ]
    },
    {
      "cell_type": "code",
      "source": [
        "img_rows, img_cols = 28, 28\n",
        "num_classes = 6\n",
        "\n",
        "def data_prep_train(raw):\n",
        "    out_y = keras.utils.to_categorical(raw.class_name, num_classes)\n",
        "\n",
        "    num_images = raw.shape[0]\n",
        "    x_as_array = raw.values[:,:-1]\n",
        "    x_shaped_array = x_as_array.reshape(num_images, img_rows, img_cols, 1)\n",
        "    x_shaped_array = x_shaped_array.astype('float32')\n",
        "    out_x = x_shaped_array / 255.0\n",
        "\n",
        "    return out_x, out_y"
      ],
      "metadata": {
        "id": "2eg8Bg4iElRX"
      },
      "execution_count": null,
      "outputs": []
    },
    {
      "cell_type": "code",
      "source": [
        "x, y = data_prep_train(full_data)\n",
        "x_train, x_valid, y_train, y_valid = train_test_split(x, y, test_size=0.3, random_state=0)"
      ],
      "metadata": {
        "id": "7FeMT1VEEwU8"
      },
      "execution_count": null,
      "outputs": []
    },
    {
      "cell_type": "code",
      "source": [
        "x.shape"
      ],
      "metadata": {
        "colab": {
          "base_uri": "https://localhost:8080/"
        },
        "id": "HL7Nh8RVQDHp",
        "outputId": "76e779bd-4a0f-43e2-d351-ddee4ffc80c7"
      },
      "execution_count": null,
      "outputs": [
        {
          "output_type": "execute_result",
          "data": {
            "text/plain": [
              "(3800, 28, 28, 1)"
            ]
          },
          "metadata": {},
          "execution_count": 17
        }
      ]
    },
    {
      "cell_type": "code",
      "source": [
        "unique_values, counts = np.unique(np.argmax(y_train, axis=1), return_counts=True)\n",
        "\n",
        "for value, count in zip(unique_values, counts):\n",
        "    print(f'Value: {value}, Count: {count}')\n",
        "\n",
        "print('-----')\n",
        "\n",
        "unique_values, counts = np.unique(np.argmax(y_valid, axis=1), return_counts=True)\n",
        "\n",
        "for value, count in zip(unique_values, counts):\n",
        "    print(f'Value: {value}, Count: {count}')"
      ],
      "metadata": {
        "colab": {
          "base_uri": "https://localhost:8080/"
        },
        "id": "ziCs_nbrqSJd",
        "outputId": "3333480d-966e-41df-960c-733210f217ed"
      },
      "execution_count": null,
      "outputs": [
        {
          "output_type": "stream",
          "name": "stdout",
          "text": [
            "Value: 0, Count: 352\n",
            "Value: 1, Count: 347\n",
            "Value: 2, Count: 357\n",
            "Value: 3, Count: 362\n",
            "Value: 4, Count: 606\n",
            "Value: 5, Count: 636\n",
            "-----\n",
            "Value: 0, Count: 148\n",
            "Value: 1, Count: 153\n",
            "Value: 2, Count: 143\n",
            "Value: 3, Count: 138\n",
            "Value: 4, Count: 294\n",
            "Value: 5, Count: 264\n"
          ]
        }
      ]
    },
    {
      "cell_type": "code",
      "source": [
        "model = Sequential()\n",
        "model.add(Conv2D(32, kernel_size=(3, 3), padding = 'same', activation='relu', input_shape=(img_rows, img_cols, 1),\n",
        "                 kernel_regularizer=regularizers.l2(0.1)))\n",
        "model.add(MaxPooling2D((2, 2)))\n",
        "model.add(Conv2D(64, kernel_size=(3, 3), padding = 'same', activation='relu',\n",
        "                 kernel_regularizer=regularizers.l2(0.1)))\n",
        "model.add(MaxPooling2D((2, 2)))\n",
        "model.add(Conv2D(128, kernel_size=(3, 3), padding = 'same', activation='relu',\n",
        "                 kernel_regularizer=regularizers.l2(0.1)))\n",
        "model.add(MaxPooling2D((2, 2)))\n",
        "model.add(Flatten())\n",
        "model.add(Dense(512, activation='relu',\n",
        "                kernel_regularizer=regularizers.l2(0.1)))\n",
        "model.add(Dense(num_classes, activation='softmax'))\n",
        "model.summary()"
      ],
      "metadata": {
        "colab": {
          "base_uri": "https://localhost:8080/"
        },
        "id": "6Q65bhKLSLJo",
        "outputId": "badf6049-f4c4-4d89-dd91-8508ad974e96"
      },
      "execution_count": null,
      "outputs": [
        {
          "output_type": "stream",
          "name": "stdout",
          "text": [
            "Model: \"sequential\"\n",
            "_________________________________________________________________\n",
            " Layer (type)                Output Shape              Param #   \n",
            "=================================================================\n",
            " conv2d (Conv2D)             (None, 28, 28, 32)        320       \n",
            "                                                                 \n",
            " max_pooling2d (MaxPooling2  (None, 14, 14, 32)        0         \n",
            " D)                                                              \n",
            "                                                                 \n",
            " conv2d_1 (Conv2D)           (None, 14, 14, 64)        18496     \n",
            "                                                                 \n",
            " max_pooling2d_1 (MaxPoolin  (None, 7, 7, 64)          0         \n",
            " g2D)                                                            \n",
            "                                                                 \n",
            " conv2d_2 (Conv2D)           (None, 7, 7, 128)         73856     \n",
            "                                                                 \n",
            " max_pooling2d_2 (MaxPoolin  (None, 3, 3, 128)         0         \n",
            " g2D)                                                            \n",
            "                                                                 \n",
            " flatten (Flatten)           (None, 1152)              0         \n",
            "                                                                 \n",
            " dense (Dense)               (None, 512)               590336    \n",
            "                                                                 \n",
            " dense_1 (Dense)             (None, 6)                 3078      \n",
            "                                                                 \n",
            "=================================================================\n",
            "Total params: 686086 (2.62 MB)\n",
            "Trainable params: 686086 (2.62 MB)\n",
            "Non-trainable params: 0 (0.00 Byte)\n",
            "_________________________________________________________________\n"
          ]
        }
      ]
    },
    {
      "cell_type": "code",
      "source": [
        "alphas = [1e-5, 1e-4, 0.001, 0.01, 0.1, 1]\n",
        "print(alphas)"
      ],
      "metadata": {
        "colab": {
          "base_uri": "https://localhost:8080/"
        },
        "id": "rxG74EPXtikH",
        "outputId": "877f6c8a-9a79-4ab1-8947-18e5fa832c41"
      },
      "execution_count": null,
      "outputs": [
        {
          "output_type": "stream",
          "name": "stdout",
          "text": [
            "[1e-05, 0.0001, 0.001, 0.01, 0.1, 1]\n"
          ]
        }
      ]
    },
    {
      "cell_type": "code",
      "source": [
        "np.random.seed(0)\n",
        "tf.random.set_seed(0)\n",
        "\n",
        "models = []\n",
        "train_balanced_accs = []\n",
        "valid_balanced_accs = []\n",
        "\n",
        "for i in alphas:\n",
        "\n",
        "  model = Sequential()\n",
        "  model.add(Conv2D(32, kernel_size=(3, 3), padding = 'same', activation='relu', input_shape=(img_rows, img_cols, 1),\n",
        "                   kernel_regularizer=regularizers.l2(i)))\n",
        "  model.add(MaxPooling2D((2, 2)))\n",
        "  model.add(Conv2D(64, kernel_size=(3, 3), padding = 'same', activation='relu',\n",
        "                   kernel_regularizer=regularizers.l2(i)))\n",
        "  model.add(MaxPooling2D((2, 2)))\n",
        "  model.add(Conv2D(128, kernel_size=(3, 3), padding = 'same', activation='relu',\n",
        "                   kernel_regularizer=regularizers.l2(i)))\n",
        "  model.add(MaxPooling2D((2, 2)))\n",
        "  model.add(Flatten())\n",
        "  model.add(Dense(512, activation='relu',\n",
        "                  kernel_regularizer=regularizers.l2(i)))\n",
        "  model.add(Dense(num_classes, activation='softmax'))\n",
        "\n",
        "  opt = tf.keras.optimizers.Adam(learning_rate=0.001)\n",
        "  model.compile(loss=keras.losses.categorical_crossentropy,\n",
        "                optimizer=opt,\n",
        "                metrics=['accuracy'])\n",
        "\n",
        "  early_stopping = EarlyStopping(monitor='val_accuracy', patience=3, restore_best_weights=True)\n",
        "\n",
        "  model.fit(x_train, y_train,\n",
        "            batch_size=32,\n",
        "            epochs=50,\n",
        "            validation_data=(x_valid, y_valid),\n",
        "            verbose=1,\n",
        "            callbacks=[early_stopping])\n",
        "\n",
        "  models.append(model)\n",
        "\n",
        "  train_yhat_probs = model.predict(x_train)\n",
        "  train_yhat_classes = np.argmax(train_yhat_probs, axis=1)\n",
        "  train_balanced_acc = balanced_accuracy_score(np.argmax(y_train, axis=1), train_yhat_classes)\n",
        "\n",
        "  valid_yhat_probs = model.predict(x_valid)\n",
        "  valid_yhat_classes = np.argmax(valid_yhat_probs, axis=1)\n",
        "  valid_balanced_acc = balanced_accuracy_score(np.argmax(y_valid, axis=1), valid_yhat_classes)\n",
        "\n",
        "  print(f\"alpha: {i}, train_score: {train_balanced_acc:.5f}, validation_score: {valid_balanced_acc:.5f}\")\n",
        "  train_balanced_accs.append(train_balanced_acc)\n",
        "  valid_balanced_accs.append(valid_balanced_acc)"
      ],
      "metadata": {
        "colab": {
          "base_uri": "https://localhost:8080/"
        },
        "id": "MVN2JQ6Y1ett",
        "outputId": "2a856e17-6b15-4a3d-f692-65bf223f2514"
      },
      "execution_count": null,
      "outputs": [
        {
          "output_type": "stream",
          "name": "stdout",
          "text": [
            "Epoch 1/50\n",
            "84/84 [==============================] - 8s 65ms/step - loss: 0.4521 - accuracy: 0.8323 - val_loss: 0.1972 - val_accuracy: 0.9430\n",
            "Epoch 2/50\n",
            "84/84 [==============================] - 5s 60ms/step - loss: 0.1427 - accuracy: 0.9545 - val_loss: 0.1785 - val_accuracy: 0.9491\n",
            "Epoch 3/50\n",
            "84/84 [==============================] - 8s 93ms/step - loss: 0.1101 - accuracy: 0.9624 - val_loss: 0.1147 - val_accuracy: 0.9711\n",
            "Epoch 4/50\n",
            "84/84 [==============================] - 5s 60ms/step - loss: 0.0746 - accuracy: 0.9782 - val_loss: 0.1384 - val_accuracy: 0.9623\n",
            "Epoch 5/50\n",
            "84/84 [==============================] - 6s 68ms/step - loss: 0.0706 - accuracy: 0.9808 - val_loss: 0.0933 - val_accuracy: 0.9737\n",
            "Epoch 6/50\n",
            "84/84 [==============================] - 7s 87ms/step - loss: 0.0533 - accuracy: 0.9850 - val_loss: 0.0918 - val_accuracy: 0.9816\n",
            "Epoch 7/50\n",
            "84/84 [==============================] - 5s 60ms/step - loss: 0.0432 - accuracy: 0.9906 - val_loss: 0.0951 - val_accuracy: 0.9781\n",
            "Epoch 8/50\n",
            "84/84 [==============================] - 6s 75ms/step - loss: 0.0301 - accuracy: 0.9940 - val_loss: 0.1021 - val_accuracy: 0.9781\n",
            "Epoch 9/50\n",
            "84/84 [==============================] - 7s 78ms/step - loss: 0.0244 - accuracy: 0.9955 - val_loss: 0.1046 - val_accuracy: 0.9772\n",
            "84/84 [==============================] - 1s 15ms/step\n",
            "36/36 [==============================] - 1s 15ms/step\n",
            "alpha: 1e-05, train_score: 0.99374, validation_score: 0.98091\n",
            "Epoch 1/50\n",
            "84/84 [==============================] - 9s 88ms/step - loss: 0.5546 - accuracy: 0.8105 - val_loss: 0.2546 - val_accuracy: 0.9500\n",
            "Epoch 2/50\n",
            "84/84 [==============================] - 6s 70ms/step - loss: 0.2180 - accuracy: 0.9447 - val_loss: 0.2413 - val_accuracy: 0.9412\n",
            "Epoch 3/50\n",
            "84/84 [==============================] - 5s 62ms/step - loss: 0.1737 - accuracy: 0.9590 - val_loss: 0.1879 - val_accuracy: 0.9640\n",
            "Epoch 4/50\n",
            "84/84 [==============================] - 8s 96ms/step - loss: 0.1478 - accuracy: 0.9703 - val_loss: 0.1640 - val_accuracy: 0.9640\n",
            "Epoch 5/50\n",
            "84/84 [==============================] - 5s 62ms/step - loss: 0.1299 - accuracy: 0.9756 - val_loss: 0.1523 - val_accuracy: 0.9711\n",
            "Epoch 6/50\n",
            "84/84 [==============================] - 6s 71ms/step - loss: 0.1081 - accuracy: 0.9823 - val_loss: 0.1361 - val_accuracy: 0.9746\n",
            "Epoch 7/50\n",
            "84/84 [==============================] - 7s 89ms/step - loss: 0.0979 - accuracy: 0.9857 - val_loss: 0.1345 - val_accuracy: 0.9763\n",
            "Epoch 8/50\n",
            "84/84 [==============================] - 5s 62ms/step - loss: 0.0814 - accuracy: 0.9906 - val_loss: 0.1304 - val_accuracy: 0.9754\n",
            "Epoch 9/50\n",
            "84/84 [==============================] - 7s 82ms/step - loss: 0.0737 - accuracy: 0.9940 - val_loss: 0.1203 - val_accuracy: 0.9807\n",
            "Epoch 10/50\n",
            "84/84 [==============================] - 7s 77ms/step - loss: 0.0748 - accuracy: 0.9910 - val_loss: 0.1504 - val_accuracy: 0.9746\n",
            "Epoch 11/50\n",
            "84/84 [==============================] - 5s 62ms/step - loss: 0.0686 - accuracy: 0.9932 - val_loss: 0.1242 - val_accuracy: 0.9807\n",
            "Epoch 12/50\n",
            "84/84 [==============================] - 8s 91ms/step - loss: 0.0613 - accuracy: 0.9955 - val_loss: 0.1417 - val_accuracy: 0.9798\n",
            "84/84 [==============================] - 2s 20ms/step\n",
            "36/36 [==============================] - 1s 15ms/step\n",
            "alpha: 0.0001, train_score: 0.99496, validation_score: 0.98154\n",
            "Epoch 1/50\n",
            "84/84 [==============================] - 9s 98ms/step - loss: 1.0066 - accuracy: 0.8079 - val_loss: 0.5795 - val_accuracy: 0.9456\n",
            "Epoch 2/50\n",
            "84/84 [==============================] - 5s 61ms/step - loss: 0.5080 - accuracy: 0.9444 - val_loss: 0.5107 - val_accuracy: 0.9263\n",
            "Epoch 3/50\n",
            "84/84 [==============================] - 6s 68ms/step - loss: 0.4090 - accuracy: 0.9579 - val_loss: 0.3694 - val_accuracy: 0.9711\n",
            "Epoch 4/50\n",
            "84/84 [==============================] - 7s 85ms/step - loss: 0.3437 - accuracy: 0.9692 - val_loss: 0.3433 - val_accuracy: 0.9632\n",
            "Epoch 5/50\n",
            "84/84 [==============================] - 5s 60ms/step - loss: 0.2964 - accuracy: 0.9714 - val_loss: 0.2860 - val_accuracy: 0.9754\n",
            "Epoch 6/50\n",
            "84/84 [==============================] - 6s 74ms/step - loss: 0.2650 - accuracy: 0.9726 - val_loss: 0.3075 - val_accuracy: 0.9623\n",
            "Epoch 7/50\n",
            "84/84 [==============================] - 7s 77ms/step - loss: 0.2334 - accuracy: 0.9797 - val_loss: 0.2466 - val_accuracy: 0.9737\n",
            "Epoch 8/50\n",
            "84/84 [==============================] - 5s 60ms/step - loss: 0.1973 - accuracy: 0.9842 - val_loss: 0.2331 - val_accuracy: 0.9702\n",
            "84/84 [==============================] - 1s 15ms/step\n",
            "36/36 [==============================] - 1s 15ms/step\n",
            "alpha: 0.001, train_score: 0.98353, validation_score: 0.97408\n",
            "Epoch 1/50\n",
            "84/84 [==============================] - 9s 92ms/step - loss: 3.2682 - accuracy: 0.7729 - val_loss: 1.2335 - val_accuracy: 0.9044\n",
            "Epoch 2/50\n",
            "84/84 [==============================] - 5s 59ms/step - loss: 0.9004 - accuracy: 0.9195 - val_loss: 0.7269 - val_accuracy: 0.9228\n",
            "Epoch 3/50\n",
            "84/84 [==============================] - 6s 73ms/step - loss: 0.5797 - accuracy: 0.9380 - val_loss: 0.5745 - val_accuracy: 0.9342\n",
            "Epoch 4/50\n",
            "84/84 [==============================] - 7s 78ms/step - loss: 0.5005 - accuracy: 0.9361 - val_loss: 0.4829 - val_accuracy: 0.9316\n",
            "Epoch 5/50\n",
            "84/84 [==============================] - 5s 58ms/step - loss: 0.4342 - accuracy: 0.9383 - val_loss: 0.4076 - val_accuracy: 0.9500\n",
            "Epoch 6/50\n",
            "84/84 [==============================] - 7s 80ms/step - loss: 0.3675 - accuracy: 0.9500 - val_loss: 0.3596 - val_accuracy: 0.9553\n",
            "Epoch 7/50\n",
            "84/84 [==============================] - 6s 75ms/step - loss: 0.3511 - accuracy: 0.9508 - val_loss: 0.3839 - val_accuracy: 0.9404\n",
            "Epoch 8/50\n",
            "84/84 [==============================] - 5s 60ms/step - loss: 0.3350 - accuracy: 0.9511 - val_loss: 0.3487 - val_accuracy: 0.9544\n",
            "Epoch 9/50\n",
            "84/84 [==============================] - 7s 87ms/step - loss: 0.3293 - accuracy: 0.9568 - val_loss: 0.3580 - val_accuracy: 0.9474\n",
            "84/84 [==============================] - 2s 21ms/step\n",
            "36/36 [==============================] - 1s 15ms/step\n",
            "alpha: 0.01, train_score: 0.95519, validation_score: 0.95176\n",
            "Epoch 1/50\n",
            "84/84 [==============================] - 6s 61ms/step - loss: 18.7355 - accuracy: 0.5632 - val_loss: 1.2264 - val_accuracy: 0.7588\n",
            "Epoch 2/50\n",
            "84/84 [==============================] - 7s 88ms/step - loss: 1.0565 - accuracy: 0.7605 - val_loss: 0.9109 - val_accuracy: 0.8377\n",
            "Epoch 3/50\n",
            "84/84 [==============================] - 5s 64ms/step - loss: 0.9154 - accuracy: 0.8139 - val_loss: 0.9296 - val_accuracy: 0.7974\n",
            "Epoch 4/50\n",
            "84/84 [==============================] - 5s 58ms/step - loss: 0.8399 - accuracy: 0.8395 - val_loss: 0.9132 - val_accuracy: 0.8061\n",
            "Epoch 5/50\n",
            "84/84 [==============================] - 7s 87ms/step - loss: 0.8281 - accuracy: 0.8335 - val_loss: 0.7948 - val_accuracy: 0.8596\n",
            "Epoch 6/50\n",
            "84/84 [==============================] - 5s 61ms/step - loss: 0.7778 - accuracy: 0.8515 - val_loss: 0.7634 - val_accuracy: 0.8658\n",
            "Epoch 7/50\n",
            "84/84 [==============================] - 5s 56ms/step - loss: 0.7444 - accuracy: 0.8571 - val_loss: 0.7851 - val_accuracy: 0.8263\n",
            "Epoch 8/50\n",
            "84/84 [==============================] - 8s 90ms/step - loss: 0.7311 - accuracy: 0.8571 - val_loss: 0.7281 - val_accuracy: 0.8579\n",
            "Epoch 9/50\n",
            "84/84 [==============================] - 5s 59ms/step - loss: 0.7321 - accuracy: 0.8560 - val_loss: 0.7864 - val_accuracy: 0.8421\n",
            "84/84 [==============================] - 1s 15ms/step\n",
            "36/36 [==============================] - 1s 15ms/step\n",
            "alpha: 0.1, train_score: 0.88138, validation_score: 0.87878\n",
            "Epoch 1/50\n",
            "84/84 [==============================] - 9s 98ms/step - loss: 174.7900 - accuracy: 0.2553 - val_loss: 3.1034 - val_accuracy: 0.2316\n",
            "Epoch 2/50\n",
            "84/84 [==============================] - 5s 59ms/step - loss: 2.0127 - accuracy: 0.2391 - val_loss: 1.7628 - val_accuracy: 0.2316\n",
            "Epoch 3/50\n",
            "84/84 [==============================] - 5s 60ms/step - loss: 1.7617 - accuracy: 0.2289 - val_loss: 1.7451 - val_accuracy: 0.2316\n",
            "Epoch 4/50\n",
            "84/84 [==============================] - 8s 92ms/step - loss: 1.7562 - accuracy: 0.2391 - val_loss: 1.7435 - val_accuracy: 0.2316\n",
            "84/84 [==============================] - 1s 15ms/step\n",
            "36/36 [==============================] - 1s 14ms/step\n",
            "alpha: 1, train_score: 0.16667, validation_score: 0.16667\n"
          ]
        }
      ]
    },
    {
      "cell_type": "code",
      "source": [
        "max_index = valid_balanced_accs.index(max(valid_balanced_accs))\n",
        "alpha_best = alphas[max_index]\n",
        "print(alpha_best)"
      ],
      "metadata": {
        "colab": {
          "base_uri": "https://localhost:8080/"
        },
        "id": "TqQuo0qgCkJ2",
        "outputId": "c080ac18-c881-431f-8333-e610f78e4b46"
      },
      "execution_count": null,
      "outputs": [
        {
          "output_type": "stream",
          "name": "stdout",
          "text": [
            "0.0001\n"
          ]
        }
      ]
    },
    {
      "cell_type": "code",
      "source": [
        "model_best = models[max_index]\n",
        "valid_yhat_probs = model_best.predict(x_valid, verbose=0)\n",
        "\n",
        "valid_yhat_classes = np.argmax(valid_yhat_probs, axis=1)\n",
        "\n",
        "class_names = ['dress', 'pullover', 'top', 'trouser', 'sandal', 'sneaker']\n",
        "cm = confusion_matrix(np.argmax(y_valid, axis=1), valid_yhat_classes)\n",
        "\n",
        "disp = ConfusionMatrixDisplay(confusion_matrix=cm, display_labels=class_names)\n",
        "disp.plot(cmap='Blues', values_format='d')"
      ],
      "metadata": {
        "colab": {
          "base_uri": "https://localhost:8080/",
          "height": 466
        },
        "id": "nHmDNPzWCoJG",
        "outputId": "c9dd664c-e7ad-41c4-b7fc-a5964c996178"
      },
      "execution_count": null,
      "outputs": [
        {
          "output_type": "execute_result",
          "data": {
            "text/plain": [
              "<sklearn.metrics._plot.confusion_matrix.ConfusionMatrixDisplay at 0x7b37047c1060>"
            ]
          },
          "metadata": {},
          "execution_count": 20
        },
        {
          "output_type": "display_data",
          "data": {
            "text/plain": [
              "<Figure size 640x480 with 2 Axes>"
            ],
            "image/png": "[encoded data removed]"
          },
          "metadata": {}
        }
      ]
    },
    {
      "cell_type": "code",
      "source": [
        "test_x = pd.read_csv(os.path.join(data_dir, \"x_test.csv\"))"
      ],
      "metadata": {
        "id": "EWgFExW6cY3H"
      },
      "execution_count": null,
      "outputs": []
    },
    {
      "cell_type": "code",
      "source": [
        "img_rows, img_cols = 28, 28\n",
        "\n",
        "def data_prep_test(raw):\n",
        "\n",
        "    num_images = raw.shape[0]\n",
        "    x_as_array = raw.values[:,:]\n",
        "    x_shaped_array = x_as_array.reshape(num_images, img_rows, img_cols, 1)\n",
        "    x_shaped_array = x_shaped_array.astype('float32')\n",
        "    out_x = x_shaped_array / 255.0\n",
        "\n",
        "    return out_x"
      ],
      "metadata": {
        "id": "sYtpiHEXvghE"
      },
      "execution_count": null,
      "outputs": []
    },
    {
      "cell_type": "code",
      "source": [
        "x_test = data_prep_test(test_x)"
      ],
      "metadata": {
        "id": "JS4POFLidyDG"
      },
      "execution_count": null,
      "outputs": []
    },
    {
      "cell_type": "code",
      "source": [
        "test_yhat_probs = model_best.predict(x_test)\n",
        "test_yhat_probs[:5]"
      ],
      "metadata": {
        "id": "UX7sB9oXdsIJ",
        "colab": {
          "base_uri": "https://localhost:8080/"
        },
        "outputId": "cf43627b-6fc4-4efd-bb78-6657fb91cd17"
      },
      "execution_count": null,
      "outputs": [
        {
          "output_type": "stream",
          "name": "stdout",
          "text": [
            "19/19 [==============================] - 0s 15ms/step\n"
          ]
        },
        {
          "output_type": "execute_result",
          "data": {
            "text/plain": [
              "array([[3.2770600e-05, 2.7786555e-06, 9.9996418e-01, 7.7810057e-08,\n",
              "        2.3551619e-08, 1.2287065e-07],\n",
              "       [2.1005537e-04, 4.6590682e-08, 4.2457745e-07, 9.9978948e-01,\n",
              "        1.6272349e-08, 2.3385141e-10],\n",
              "       [1.3046512e-04, 9.8944163e-01, 7.2757709e-03, 9.8531062e-05,\n",
              "        3.0447603e-03, 8.9001514e-06],\n",
              "       [2.1855462e-02, 1.5047680e-01, 8.2545257e-01, 9.8486023e-04,\n",
              "        1.2221603e-03, 8.0478403e-06],\n",
              "       [9.9895310e-01, 5.8671620e-05, 6.1178993e-04, 1.9751712e-04,\n",
              "        6.0000943e-06, 1.7292192e-04]], dtype=float32)"
            ]
          },
          "metadata": {},
          "execution_count": 24
        }
      ]
    },
    {
      "cell_type": "code",
      "source": [
        "test_yhat_classes = np.argmax(test_yhat_probs, axis=1)\n",
        "category_mapping = {0: 'dress', 1: 'pullover', 2: 'top', 3: 'trouser', 4: 'sandal', 5: 'sneaker'}\n",
        "test_yhat = [category_mapping[class_index] for class_index in test_yhat_classes]\n",
        "test_yhat[:5]"
      ],
      "metadata": {
        "colab": {
          "base_uri": "https://localhost:8080/"
        },
        "id": "jVHhgxSywpaX",
        "outputId": "2ebd6fc2-df79-4849-f428-9183610f304f"
      },
      "execution_count": null,
      "outputs": [
        {
          "output_type": "execute_result",
          "data": {
            "text/plain": [
              "['top', 'trouser', 'pullover', 'top', 'dress']"
            ]
          },
          "metadata": {},
          "execution_count": 25
        }
      ]
    },
    {
      "cell_type": "code",
      "source": [
        "np.savetxt('Q2/yhat_test.txt', test_yhat, delimiter='\\n', fmt='%s')"
      ],
      "metadata": {
        "id": "1cJmyWASd8dp"
      },
      "execution_count": null,
      "outputs": []
    },
    {
      "cell_type": "code",
      "source": [],
      "metadata": {
        "id": "llWuv3jsVwDG"
      },
      "execution_count": null,
      "outputs": []
    }
  ],
  "metadata": {
    "colab": {
      "provenance": []
    },
    "kernelspec": {
      "display_name": "Python 3",
      "name": "python3"
    },
    "language_info": {
      "name": "python"
    }
  },
  "nbformat": 4,
  "nbformat_minor": 0
}